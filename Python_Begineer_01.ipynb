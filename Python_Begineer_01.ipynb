{
  "nbformat": 4,
  "nbformat_minor": 0,
  "metadata": {
    "colab": {
      "provenance": [],
      "authorship_tag": "ABX9TyM5mVvXtfJnqOyqgqR1gOlc",
      "include_colab_link": true
    },
    "kernelspec": {
      "name": "python3",
      "display_name": "Python 3"
    },
    "language_info": {
      "name": "python"
    }
  },
  "cells": [
    {
      "cell_type": "markdown",
      "metadata": {
        "id": "view-in-github",
        "colab_type": "text"
      },
      "source": [
        "<a href=\"https://colab.research.google.com/github/andresvillamayor/Python-Begineer/blob/main/Python_Begineer_01.ipynb\" target=\"_parent\"><img src=\"https://colab.research.google.com/assets/colab-badge.svg\" alt=\"Open In Colab\"/></a>"
      ]
    },
    {
      "cell_type": "markdown",
      "source": [
        "\n",
        "---\n",
        "## Principios Basicos - 01\n",
        "- Tipo de Variables\n",
        "- Usando Variables\n",
        "- Variables y Operadores\n",
        "---"
      ],
      "metadata": {
        "id": "AMD1noyuBG19"
      }
    },
    {
      "cell_type": "markdown",
      "source": [
        "#### Tipos de Variables\n",
        "\n",
        "- Por ahora estos son los tipos de variables que serán más utilizadas\n"
      ],
      "metadata": {
        "id": "D2PvMBOnBueD"
      }
    },
    {
      "cell_type": "markdown",
      "source": [
        "---\n",
        "Integer"
      ],
      "metadata": {
        "id": "8sJWyCzdElsm"
      }
    },
    {
      "cell_type": "code",
      "execution_count": null,
      "metadata": {
        "id": "eLsNvhbaAsOR"
      },
      "outputs": [],
      "source": [
        "# Integer\n",
        "x = 2   # aqui asignamos el valor, si bien python ya esta reconociendo el tipo de datos que recibe la variable x"
      ]
    },
    {
      "cell_type": "code",
      "source": [
        "x  # dentro de la notebook de google colab automaticamente colocando la variable nos da el valor"
      ],
      "metadata": {
        "colab": {
          "base_uri": "https://localhost:8080/"
        },
        "id": "a-IvhGH8CrPX",
        "outputId": "4c9b0e1e-b539-40cf-8d67-40abfe55d17e"
      },
      "execution_count": null,
      "outputs": [
        {
          "output_type": "execute_result",
          "data": {
            "text/plain": [
              "2"
            ]
          },
          "metadata": {},
          "execution_count": 3
        }
      ]
    },
    {
      "cell_type": "code",
      "source": [
        "# vemos el tipo de datos\n",
        "type(x) # colocando type() y dentro de los parentesis colocamos la variable, python nos mostrara el tipo de variable\n",
        "# en este caso nos mostrara el tipo de variable INT por que es un Integer"
      ],
      "metadata": {
        "colab": {
          "base_uri": "https://localhost:8080/"
        },
        "id": "NU3I7gU-CzHT",
        "outputId": "0fcc4f21-e72e-4c89-926d-34200bcfa206"
      },
      "execution_count": null,
      "outputs": [
        {
          "output_type": "execute_result",
          "data": {
            "text/plain": [
              "int"
            ]
          },
          "metadata": {},
          "execution_count": 4
        }
      ]
    },
    {
      "cell_type": "markdown",
      "source": [
        "---\n",
        "Float o Punto Flotante"
      ],
      "metadata": {
        "id": "VivStsImEIEQ"
      }
    },
    {
      "cell_type": "code",
      "source": [
        "# Float o Punto Flotante\n",
        "y = 2.5  # aqui python ya reconoce que es un tipo de variable float, porque ya tiene un punto el valor"
      ],
      "metadata": {
        "id": "LZPumgOnDRaa"
      },
      "execution_count": null,
      "outputs": []
    },
    {
      "cell_type": "code",
      "source": [
        "y  # una vez que colocamos la variable en la notebook la misma nos mostrara el valor"
      ],
      "metadata": {
        "colab": {
          "base_uri": "https://localhost:8080/"
        },
        "id": "g8d42kcaETH1",
        "outputId": "5ee4fa37-a38d-4669-da93-411d954e0fde"
      },
      "execution_count": null,
      "outputs": [
        {
          "output_type": "execute_result",
          "data": {
            "text/plain": [
              "2.5"
            ]
          },
          "metadata": {},
          "execution_count": 6
        }
      ]
    },
    {
      "cell_type": "code",
      "source": [
        "# Para ver nuevamente el tipo de datos que sea decimal\n",
        "type(y) # aca nos mostrara que el tipo de datos es decimal / float o punto flotante"
      ],
      "metadata": {
        "colab": {
          "base_uri": "https://localhost:8080/"
        },
        "id": "ErcKkFonG-lk",
        "outputId": "0418dfc5-24a5-47a3-8ccf-4173a98da876"
      },
      "execution_count": null,
      "outputs": [
        {
          "output_type": "execute_result",
          "data": {
            "text/plain": [
              "float"
            ]
          },
          "metadata": {},
          "execution_count": 7
        }
      ]
    },
    {
      "cell_type": "markdown",
      "source": [
        "---\n",
        "String o Cadena de Texto"
      ],
      "metadata": {
        "id": "HgzZhHYlMKOh"
      }
    },
    {
      "cell_type": "code",
      "source": [
        "# String o Cadena de Texto\n",
        "a = 'hola'"
      ],
      "metadata": {
        "id": "EjPVAedsHZMW"
      },
      "execution_count": null,
      "outputs": []
    },
    {
      "cell_type": "code",
      "source": [
        "a # el valor de a sera hola"
      ],
      "metadata": {
        "colab": {
          "base_uri": "https://localhost:8080/",
          "height": 35
        },
        "id": "jtVrF4dFMevH",
        "outputId": "12b5183f-4b5f-430a-df8f-712ec454a155"
      },
      "execution_count": null,
      "outputs": [
        {
          "output_type": "execute_result",
          "data": {
            "text/plain": [
              "'hola'"
            ],
            "application/vnd.google.colaboratory.intrinsic+json": {
              "type": "string"
            }
          },
          "metadata": {},
          "execution_count": 9
        }
      ]
    },
    {
      "cell_type": "code",
      "source": [
        "# Nuevemnte para saber el tipo de variable\n",
        "type(a)  # aca nos muestra el tipo de variable\n",
        "# str = String = Cadena de texto"
      ],
      "metadata": {
        "colab": {
          "base_uri": "https://localhost:8080/"
        },
        "id": "BQqiTROYMkQF",
        "outputId": "48cc833f-3355-472b-9667-445f55600766"
      },
      "execution_count": null,
      "outputs": [
        {
          "output_type": "execute_result",
          "data": {
            "text/plain": [
              "str"
            ]
          },
          "metadata": {},
          "execution_count": 10
        }
      ]
    },
    {
      "cell_type": "code",
      "source": [
        "# podemos icluir numeros que seran string\n",
        "b = '2'  # toma el valor string porque estamos colocando entre comillas ''"
      ],
      "metadata": {
        "id": "nsYBLry2MzFh"
      },
      "execution_count": null,
      "outputs": []
    },
    {
      "cell_type": "code",
      "source": [
        "b # mostramos el valor de b"
      ],
      "metadata": {
        "colab": {
          "base_uri": "https://localhost:8080/",
          "height": 35
        },
        "id": "C4o8YArONQkN",
        "outputId": "e6a75c73-27eb-41ec-9337-2654a40f6fcc"
      },
      "execution_count": null,
      "outputs": [
        {
          "output_type": "execute_result",
          "data": {
            "text/plain": [
              "'2'"
            ],
            "application/vnd.google.colaboratory.intrinsic+json": {
              "type": "string"
            }
          },
          "metadata": {},
          "execution_count": 14
        }
      ]
    },
    {
      "cell_type": "code",
      "source": [
        "# si vemos el tipo de variable seria lo siguiente\n",
        "type(b)"
      ],
      "metadata": {
        "colab": {
          "base_uri": "https://localhost:8080/"
        },
        "id": "ejnUkIYzNWTo",
        "outputId": "8612e6d0-bf49-485e-ee58-dadec683095f"
      },
      "execution_count": null,
      "outputs": [
        {
          "output_type": "execute_result",
          "data": {
            "text/plain": [
              "str"
            ]
          },
          "metadata": {},
          "execution_count": 15
        }
      ]
    },
    {
      "cell_type": "markdown",
      "source": [
        "---\n",
        "Boolean o Variable Lógiga"
      ],
      "metadata": {
        "id": "0qnxr8i4N1y_"
      }
    },
    {
      "cell_type": "code",
      "source": [
        "# La variable booleana solo tiene dos valores\n",
        "# False\n",
        "# True\n",
        "a1 = True  # cuando colocamos el valor True / False de ir la primera en mayuscula para que el lenguaje reconosca"
      ],
      "metadata": {
        "id": "RHGUusjpNmvZ"
      },
      "execution_count": null,
      "outputs": []
    },
    {
      "cell_type": "code",
      "source": [
        "# si queremos ver el valor de a1\n",
        "a1 # aca nos damos cuenta que el valor es True"
      ],
      "metadata": {
        "colab": {
          "base_uri": "https://localhost:8080/"
        },
        "id": "vlATV0jeOWnw",
        "outputId": "1e766ba2-2558-4a77-9f40-6e08b949e965"
      },
      "execution_count": null,
      "outputs": [
        {
          "output_type": "execute_result",
          "data": {
            "text/plain": [
              "True"
            ]
          },
          "metadata": {},
          "execution_count": 17
        }
      ]
    },
    {
      "cell_type": "code",
      "source": [
        "# Para ver el tipo de variable\n",
        "type(a1) # nos dira que tipo de variable estamos utilizando\n",
        "# En este caso es bool = Boolean = Lógica"
      ],
      "metadata": {
        "colab": {
          "base_uri": "https://localhost:8080/"
        },
        "id": "5Zhq0kG7OeO3",
        "outputId": "f9edf5f6-ab42-427e-ea9b-95fbe38a2e16"
      },
      "execution_count": null,
      "outputs": [
        {
          "output_type": "execute_result",
          "data": {
            "text/plain": [
              "bool"
            ]
          },
          "metadata": {},
          "execution_count": 18
        }
      ]
    },
    {
      "cell_type": "markdown",
      "source": [
        "---\n",
        "#### Trabajando con Variables\n"
      ],
      "metadata": {
        "id": "1K35ejdcP7JA"
      }
    },
    {
      "cell_type": "code",
      "source": [
        "# Vamos a crear una variable con un valor\n",
        "A = 10"
      ],
      "metadata": {
        "id": "uCaNXuw4QHGO"
      },
      "execution_count": 3,
      "outputs": []
    },
    {
      "cell_type": "code",
      "source": [
        "# En esta celda creamos otra variable\n",
        "B = 5"
      ],
      "metadata": {
        "id": "sN-7aYuLz7xy"
      },
      "execution_count": 4,
      "outputs": []
    },
    {
      "cell_type": "code",
      "source": [
        "# Aritmética Suma\n",
        "# Vamos a hacer una suma de variables y colocar el valor en otra variable\n",
        "C = A + B # C tendra el valor de las variables A y B\n",
        "C   # en este caso  A = 10 y B = 5 el valor de C = 15"
      ],
      "metadata": {
        "colab": {
          "base_uri": "https://localhost:8080/"
        },
        "id": "t_xLssW50QCm",
        "outputId": "4a336766-5530-4fe6-ea81-0d60e8c3afdd"
      },
      "execution_count": 5,
      "outputs": [
        {
          "output_type": "execute_result",
          "data": {
            "text/plain": [
              "15"
            ]
          },
          "metadata": {},
          "execution_count": 5
        }
      ]
    },
    {
      "cell_type": "code",
      "source": [
        "# Aritmética Division\n",
        "# se genera una variable D\n",
        "D = B / A  # D = 5 / 10 el resultado se coloca en D\n",
        "D  # el valor de D es 0.5"
      ],
      "metadata": {
        "colab": {
          "base_uri": "https://localhost:8080/"
        },
        "id": "mBnf63f51AWT",
        "outputId": "82e73193-3689-4397-a157-e64cec19325f"
      },
      "execution_count": 6,
      "outputs": [
        {
          "output_type": "execute_result",
          "data": {
            "text/plain": [
              "0.5"
            ]
          },
          "metadata": {},
          "execution_count": 6
        }
      ]
    },
    {
      "cell_type": "code",
      "source": [
        "# para la impresion de los resultado (Vemos un ejemplo)\n",
        "C\n",
        "D # se imprime el último comando o se D"
      ],
      "metadata": {
        "colab": {
          "base_uri": "https://localhost:8080/"
        },
        "id": "IQOqwVjs1tyI",
        "outputId": "6d4fc8a9-e852-4c11-c44d-690489314cbe"
      },
      "execution_count": 7,
      "outputs": [
        {
          "output_type": "execute_result",
          "data": {
            "text/plain": [
              "0.5"
            ]
          },
          "metadata": {},
          "execution_count": 7
        }
      ]
    },
    {
      "cell_type": "code",
      "source": [
        "# Para evitar la impresion anterior es mejor usar la función print()\n",
        "print(C) # se imprime el valor de la suma\n",
        "print(D) # se imprime el valor de la division\n",
        "# si agregamos un texto al print() para que sea más comprensible\n",
        "print('El Valor de C =' , C)\n",
        "print('El Valor de D =' , D)"
      ],
      "metadata": {
        "colab": {
          "base_uri": "https://localhost:8080/"
        },
        "id": "OOQpuhqs2CCG",
        "outputId": "01c13cba-039f-47e5-82c5-a27ab69c2d10"
      },
      "execution_count": 8,
      "outputs": [
        {
          "output_type": "stream",
          "name": "stdout",
          "text": [
            "15\n",
            "0.5\n",
            "El Valor de C = 15\n",
            "El Valor de D = 0.5\n"
          ]
        }
      ]
    },
    {
      "cell_type": "markdown",
      "source": [
        "Importando modulo"
      ],
      "metadata": {
        "id": "-7sW5Ylw5GE5"
      }
    },
    {
      "cell_type": "code",
      "source": [
        "import math"
      ],
      "metadata": {
        "id": "SB22UxkH5UnG"
      },
      "execution_count": 10,
      "outputs": []
    },
    {
      "cell_type": "code",
      "source": [
        "math.sqrt(144) # importamos el modulo math para usar la funcion sqrt (raiz cuadrada) y el pasamos el valor\n",
        "# el valor impreso es de 12.0 es el resultado de la raiz cuadrada de 144"
      ],
      "metadata": {
        "colab": {
          "base_uri": "https://localhost:8080/"
        },
        "id": "adnW3LM05YTt",
        "outputId": "42a08288-333e-4a49-f5b9-4f160aa2572d"
      },
      "execution_count": 11,
      "outputs": [
        {
          "output_type": "execute_result",
          "data": {
            "text/plain": [
              "12.0"
            ]
          },
          "metadata": {},
          "execution_count": 11
        }
      ]
    },
    {
      "cell_type": "code",
      "source": [
        "# Sobre la misma funcion de la raiz cuadrada vamos a utiliar otra variable con un valor asignado\n",
        "math.sqrt(A) # A ya tiene un valor anterior  A = 10"
      ],
      "metadata": {
        "colab": {
          "base_uri": "https://localhost:8080/"
        },
        "id": "3zjtTDun6CbL",
        "outputId": "fd615958-06a9-49bb-e113-e4fde969f260"
      },
      "execution_count": 12,
      "outputs": [
        {
          "output_type": "execute_result",
          "data": {
            "text/plain": [
              "3.1622776601683795"
            ]
          },
          "metadata": {},
          "execution_count": 12
        }
      ]
    },
    {
      "cell_type": "code",
      "source": [
        "# Utilizando la función round() para redondear\n",
        "round(10.5) # aca le decimos que nos redonde el 10.5\n",
        "# el valor resultante es que saca los decimales y nos deja el número entero"
      ],
      "metadata": {
        "colab": {
          "base_uri": "https://localhost:8080/"
        },
        "id": "Jgj6Cpau6do2",
        "outputId": "61fdfb10-ba85-401d-9c18-18c09a0e8ead"
      },
      "execution_count": 13,
      "outputs": [
        {
          "output_type": "execute_result",
          "data": {
            "text/plain": [
              "10"
            ]
          },
          "metadata": {},
          "execution_count": 13
        }
      ]
    },
    {
      "cell_type": "code",
      "source": [
        "# Utilizando una función dentro de otra función\n",
        "# Vemos la raiz cuadrada de A\n",
        "print(math.sqrt(A)) # esto nos dara un valor\n",
        "# si colocamos también la funcion de round()\n",
        "print(round(math.sqrt(A))) # esto daria el valor sin los decimales\n",
        "\n",
        "#OBS : Aca usamos la función print para que se vea exactamente los dos valores"
      ],
      "metadata": {
        "colab": {
          "base_uri": "https://localhost:8080/"
        },
        "id": "i6gDdfMv64fa",
        "outputId": "3e61e8a1-18c5-47d5-8538-1294508e89dd"
      },
      "execution_count": 14,
      "outputs": [
        {
          "output_type": "stream",
          "name": "stdout",
          "text": [
            "3.1622776601683795\n",
            "3\n"
          ]
        }
      ]
    },
    {
      "cell_type": "code",
      "source": [
        "# Ahora vemos como trabajar con variables String o Cadenas de Texto\n",
        "nombre = 'Pedro' # Al tener esta variable en formato string va ente comillas simples '' o entre dolble comillas \" \"\n",
        "saludo = 'Hola'\n",
        "# Se asignaron los valores a las variables nombre y saludo"
      ],
      "metadata": {
        "id": "uMMJpZu18A7e"
      },
      "execution_count": 16,
      "outputs": []
    },
    {
      "cell_type": "code",
      "source": [
        "# Se genera una variable mensaje\n",
        "mensaje = nombre + saludo  # se esta adicionando el valor del string o sea se juntan las dos variables\n",
        "print(mensaje)  # La salida del valor es PEDROHOLA"
      ],
      "metadata": {
        "colab": {
          "base_uri": "https://localhost:8080/"
        },
        "id": "LfHUWTYE8vM3",
        "outputId": "3287982e-bb50-45b9-c972-9535a272a82b"
      },
      "execution_count": 17,
      "outputs": [
        {
          "output_type": "stream",
          "name": "stdout",
          "text": [
            "PedroHola\n"
          ]
        }
      ]
    },
    {
      "cell_type": "code",
      "source": [
        "# vamos a corregir el valor de la variable mensaje de la siguiente manera\n",
        "mensaje = saludo + ' ' + nombre\n",
        "# Lo que estamos haciendo es tomar el primer valor saludo después adicionar un espacio en blanco + ' ' +  y colocar el nombre\n",
        "print(mensaje) # ahi queda mucho mejor para la presentacion del mensaje"
      ],
      "metadata": {
        "colab": {
          "base_uri": "https://localhost:8080/"
        },
        "id": "c5pNg6Rl9JB0",
        "outputId": "25aebf5c-c9f1-4e5c-b355-08626bd96783"
      },
      "execution_count": 19,
      "outputs": [
        {
          "output_type": "stream",
          "name": "stdout",
          "text": [
            "Hola Pedro\n"
          ]
        }
      ]
    },
    {
      "cell_type": "markdown",
      "source": [
        "---\n",
        "Operadores Booleanas y Lógicas\n",
        "- Trabajando con ellas"
      ],
      "metadata": {
        "id": "RvZwRC6b-Itw"
      }
    },
    {
      "cell_type": "code",
      "source": [
        "# Si preguntamos  el valor de un numero  ejemplo si 4 es menor a 5\n",
        "4 < 5  # aca el valor Booleano es True o sea es Verdadero 4 es menor que 5"
      ],
      "metadata": {
        "colab": {
          "base_uri": "https://localhost:8080/"
        },
        "id": "mt1TEE1Z-RBb",
        "outputId": "2541edf1-ec30-40f3-e378-8c743f2a31b4"
      },
      "execution_count": 20,
      "outputs": [
        {
          "output_type": "execute_result",
          "data": {
            "text/plain": [
              "True"
            ]
          },
          "metadata": {},
          "execution_count": 20
        }
      ]
    },
    {
      "cell_type": "code",
      "source": [
        "# Que pasaria si consulto si 40 es mayor a 100\n",
        "40 > 100  # el valor Booleando es False o sea Falso porque 40 no es mayor que 100"
      ],
      "metadata": {
        "colab": {
          "base_uri": "https://localhost:8080/"
        },
        "id": "AbvYv3tX--7k",
        "outputId": "124385b4-d3f5-4987-d15b-c5aed538ae5b"
      },
      "execution_count": 21,
      "outputs": [
        {
          "output_type": "execute_result",
          "data": {
            "text/plain": [
              "False"
            ]
          },
          "metadata": {},
          "execution_count": 21
        }
      ]
    },
    {
      "cell_type": "code",
      "source": [
        "# También podemos usar una comparacion numeria  voy a comparar si 4 es igual a 5\n",
        "# aca no usaremos  = , esto sería una asignacion , pero al usa == , esto sería una comparación\n",
        "4 == 5  # el valor de esta comparación es False y es porque 4 no es igual a 5"
      ],
      "metadata": {
        "colab": {
          "base_uri": "https://localhost:8080/"
        },
        "id": "_18SzLII_fFz",
        "outputId": "3e25e0b0-8fe5-4626-8fd1-d6cf6d9f678b"
      },
      "execution_count": 22,
      "outputs": [
        {
          "output_type": "execute_result",
          "data": {
            "text/plain": [
              "False"
            ]
          },
          "metadata": {},
          "execution_count": 22
        }
      ]
    },
    {
      "cell_type": "code",
      "source": [
        "# colocando el resultado de una comparación en una variable\n",
        "resultado = 4 < 5  # Aca, vemos que lo primero que hace es ver si 4 es menor que cinco y lo asigna a la variable resultado"
      ],
      "metadata": {
        "id": "-h2yk9V5ABdx"
      },
      "execution_count": 23,
      "outputs": []
    },
    {
      "cell_type": "code",
      "source": [
        "# vamos a usar la función print para ver el resultado\n",
        "print (resultado) # el valor del resultado es igual a True"
      ],
      "metadata": {
        "colab": {
          "base_uri": "https://localhost:8080/"
        },
        "id": "tQOGcqk8A4iH",
        "outputId": "070f2da7-75b1-4687-fec9-865aadfe94d5"
      },
      "execution_count": 24,
      "outputs": [
        {
          "output_type": "stream",
          "name": "stdout",
          "text": [
            "True\n"
          ]
        }
      ]
    },
    {
      "cell_type": "code",
      "source": [
        "# Si queremo saber que tipo de dato tiene la variable resultado\n",
        "type(resultado) # el resultado es bool = booleano"
      ],
      "metadata": {
        "colab": {
          "base_uri": "https://localhost:8080/"
        },
        "id": "1ucb8d1iBExD",
        "outputId": "69cfb15c-c977-4148-828e-fed2994e0ba6"
      },
      "execution_count": 25,
      "outputs": [
        {
          "output_type": "execute_result",
          "data": {
            "text/plain": [
              "bool"
            ]
          },
          "metadata": {},
          "execution_count": 25
        }
      ]
    },
    {
      "cell_type": "code",
      "source": [
        "# Utilizando el operador not\n",
        "# el not es la negacion al resultado o sea si el valor es verdadero el not lo transforma a Falso\n",
        "# (5 > 1) cinco es mayor que uno es Verdadero\n",
        "# al tener el operador not , hace que ese valor verdadero se transforme a Falso\n",
        "# se guarda en resultado2\n",
        "resultado2 = not(5 > 1)\n",
        "print(resultado2) # Se cumple lo explicado de una afirmación paso a una negación"
      ],
      "metadata": {
        "colab": {
          "base_uri": "https://localhost:8080/"
        },
        "id": "v_w9tBToBeGn",
        "outputId": "e36d497e-6602-427d-9a5c-6cc98c3d812e"
      },
      "execution_count": 26,
      "outputs": [
        {
          "output_type": "stream",
          "name": "stdout",
          "text": [
            "False\n"
          ]
        }
      ]
    },
    {
      "cell_type": "code",
      "source": [
        "# ahora tenemos resultado y resultado2\n",
        "# resultado nos dio el valor True\n",
        "# resultado2 nos dio el valor False\n",
        "# Cuando se usa los operadores  and / or"
      ],
      "metadata": {
        "id": "Az60rIFrC1FE"
      },
      "execution_count": null,
      "outputs": []
    },
    {
      "cell_type": "code",
      "source": [
        "# Ejemplo\n",
        "# tenemos dos valores uno Verdadero y Otro Falso\n",
        "resultado or resultado2\n",
        "# al usar el or estamos diciendo que si uno de ello es Verdadero, todo es Verdadero"
      ],
      "metadata": {
        "colab": {
          "base_uri": "https://localhost:8080/"
        },
        "id": "O7TAPzMYDZG6",
        "outputId": "c1193616-0c20-4a4a-83f6-45bfb8fc9230"
      },
      "execution_count": 27,
      "outputs": [
        {
          "output_type": "execute_result",
          "data": {
            "text/plain": [
              "True"
            ]
          },
          "metadata": {},
          "execution_count": 27
        }
      ]
    },
    {
      "cell_type": "code",
      "source": [
        "# Ejemplo\n",
        "# En el mismo ejemplo utilizamos el operador and\n",
        "resultado and resultado2\n",
        "# al usar el and sabiendo que una de ellos es Falso y el otro es verdadero , el operador and dara que es falso"
      ],
      "metadata": {
        "colab": {
          "base_uri": "https://localhost:8080/"
        },
        "id": "DA7hOI2nD1Gh",
        "outputId": "8ffdfeef-9f93-402b-db25-452f62c92d4e"
      },
      "execution_count": 28,
      "outputs": [
        {
          "output_type": "execute_result",
          "data": {
            "text/plain": [
              "False"
            ]
          },
          "metadata": {},
          "execution_count": 28
        }
      ]
    }
  ]
}