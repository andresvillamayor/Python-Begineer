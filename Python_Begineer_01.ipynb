{
  "nbformat": 4,
  "nbformat_minor": 0,
  "metadata": {
    "colab": {
      "provenance": [],
      "authorship_tag": "ABX9TyM0Wr1t/Fq6mcSNkaM5oLM9",
      "include_colab_link": true
    },
    "kernelspec": {
      "name": "python3",
      "display_name": "Python 3"
    },
    "language_info": {
      "name": "python"
    }
  },
  "cells": [
    {
      "cell_type": "markdown",
      "metadata": {
        "id": "view-in-github",
        "colab_type": "text"
      },
      "source": [
        "<a href=\"https://colab.research.google.com/github/andresvillamayor/Python-Begineer/blob/main/Python_Begineer_01.ipynb\" target=\"_parent\"><img src=\"https://colab.research.google.com/assets/colab-badge.svg\" alt=\"Open In Colab\"/></a>"
      ]
    },
    {
      "cell_type": "markdown",
      "source": [
        "## Principios Basicos\n",
        "- Tipo de Variables\n",
        "- Usando Variables\n",
        "- Variables y Operadores\n",
        "- Ciclo While\n",
        "- Ciclo For\n",
        "- Condicional if\n",
        "- Identacion de Código Python\n",
        "---"
      ],
      "metadata": {
        "id": "AMD1noyuBG19"
      }
    },
    {
      "cell_type": "markdown",
      "source": [
        "#### Tipos de Variables\n",
        "\n",
        "- Por ahora estos son los tipos de variables que serán más utilizadas\n"
      ],
      "metadata": {
        "id": "D2PvMBOnBueD"
      }
    },
    {
      "cell_type": "markdown",
      "source": [
        "---\n",
        "Integer"
      ],
      "metadata": {
        "id": "8sJWyCzdElsm"
      }
    },
    {
      "cell_type": "code",
      "execution_count": 2,
      "metadata": {
        "id": "eLsNvhbaAsOR"
      },
      "outputs": [],
      "source": [
        "# Integer\n",
        "x = 2   # aqui asignamos el valor, si bien python ya esta reconociendo el tipo de datos que recibe la variable x"
      ]
    },
    {
      "cell_type": "code",
      "source": [
        "x  # dentro de la notebook de google colab automaticamente colocando la variable nos da el valor"
      ],
      "metadata": {
        "colab": {
          "base_uri": "https://localhost:8080/"
        },
        "id": "a-IvhGH8CrPX",
        "outputId": "4c9b0e1e-b539-40cf-8d67-40abfe55d17e"
      },
      "execution_count": 3,
      "outputs": [
        {
          "output_type": "execute_result",
          "data": {
            "text/plain": [
              "2"
            ]
          },
          "metadata": {},
          "execution_count": 3
        }
      ]
    },
    {
      "cell_type": "code",
      "source": [
        "# vemos el tipo de datos\n",
        "type(x) # colocando type() y dentro de los parentesis colocamos la variable, python nos mostrara el tipo de variable\n",
        "# en este caso nos mostrara el tipo de variable INT por que es un Integer"
      ],
      "metadata": {
        "colab": {
          "base_uri": "https://localhost:8080/"
        },
        "id": "NU3I7gU-CzHT",
        "outputId": "0fcc4f21-e72e-4c89-926d-34200bcfa206"
      },
      "execution_count": 4,
      "outputs": [
        {
          "output_type": "execute_result",
          "data": {
            "text/plain": [
              "int"
            ]
          },
          "metadata": {},
          "execution_count": 4
        }
      ]
    },
    {
      "cell_type": "markdown",
      "source": [
        "---\n",
        "Float o Punto Flotante"
      ],
      "metadata": {
        "id": "VivStsImEIEQ"
      }
    },
    {
      "cell_type": "code",
      "source": [
        "# Float o Punto Flotante\n",
        "y = 2.5  # aqui python ya reconoce que es un tipo de variable float, porque ya tiene un punto el valor"
      ],
      "metadata": {
        "id": "LZPumgOnDRaa"
      },
      "execution_count": 5,
      "outputs": []
    },
    {
      "cell_type": "code",
      "source": [
        "y  # una vez que colocamos la variable en la notebook la misma nos mostrara el valor"
      ],
      "metadata": {
        "colab": {
          "base_uri": "https://localhost:8080/"
        },
        "id": "g8d42kcaETH1",
        "outputId": "5ee4fa37-a38d-4669-da93-411d954e0fde"
      },
      "execution_count": 6,
      "outputs": [
        {
          "output_type": "execute_result",
          "data": {
            "text/plain": [
              "2.5"
            ]
          },
          "metadata": {},
          "execution_count": 6
        }
      ]
    },
    {
      "cell_type": "code",
      "source": [
        "# Para ver nuevamente el tipo de datos que sea decimal\n",
        "type(y) # aca nos mostrara que el tipo de datos es decimal / float o punto flotante"
      ],
      "metadata": {
        "colab": {
          "base_uri": "https://localhost:8080/"
        },
        "id": "ErcKkFonG-lk",
        "outputId": "0418dfc5-24a5-47a3-8ccf-4173a98da876"
      },
      "execution_count": 7,
      "outputs": [
        {
          "output_type": "execute_result",
          "data": {
            "text/plain": [
              "float"
            ]
          },
          "metadata": {},
          "execution_count": 7
        }
      ]
    },
    {
      "cell_type": "markdown",
      "source": [
        "---\n",
        "String o Cadena de Texto"
      ],
      "metadata": {
        "id": "HgzZhHYlMKOh"
      }
    },
    {
      "cell_type": "code",
      "source": [
        "# String o Cadena de Texto\n",
        "a = 'hola'"
      ],
      "metadata": {
        "id": "EjPVAedsHZMW"
      },
      "execution_count": 8,
      "outputs": []
    },
    {
      "cell_type": "code",
      "source": [
        "a # el valor de a sera hola"
      ],
      "metadata": {
        "colab": {
          "base_uri": "https://localhost:8080/",
          "height": 35
        },
        "id": "jtVrF4dFMevH",
        "outputId": "12b5183f-4b5f-430a-df8f-712ec454a155"
      },
      "execution_count": 9,
      "outputs": [
        {
          "output_type": "execute_result",
          "data": {
            "text/plain": [
              "'hola'"
            ],
            "application/vnd.google.colaboratory.intrinsic+json": {
              "type": "string"
            }
          },
          "metadata": {},
          "execution_count": 9
        }
      ]
    },
    {
      "cell_type": "code",
      "source": [
        "# Nuevemnte para saber el tipo de variable\n",
        "type(a)  # aca nos muestra el tipo de variable\n",
        "# str = String = Cadena de texto"
      ],
      "metadata": {
        "colab": {
          "base_uri": "https://localhost:8080/"
        },
        "id": "BQqiTROYMkQF",
        "outputId": "48cc833f-3355-472b-9667-445f55600766"
      },
      "execution_count": 10,
      "outputs": [
        {
          "output_type": "execute_result",
          "data": {
            "text/plain": [
              "str"
            ]
          },
          "metadata": {},
          "execution_count": 10
        }
      ]
    },
    {
      "cell_type": "code",
      "source": [
        "# podemos icluir numeros que seran string\n",
        "b = '2'  # toma el valor string porque estamos colocando entre comillas ''"
      ],
      "metadata": {
        "id": "nsYBLry2MzFh"
      },
      "execution_count": 13,
      "outputs": []
    },
    {
      "cell_type": "code",
      "source": [
        "b # mostramos el valor de b"
      ],
      "metadata": {
        "colab": {
          "base_uri": "https://localhost:8080/",
          "height": 35
        },
        "id": "C4o8YArONQkN",
        "outputId": "e6a75c73-27eb-41ec-9337-2654a40f6fcc"
      },
      "execution_count": 14,
      "outputs": [
        {
          "output_type": "execute_result",
          "data": {
            "text/plain": [
              "'2'"
            ],
            "application/vnd.google.colaboratory.intrinsic+json": {
              "type": "string"
            }
          },
          "metadata": {},
          "execution_count": 14
        }
      ]
    },
    {
      "cell_type": "code",
      "source": [
        "# si vemos el tipo de variable seria lo siguiente\n",
        "type(b)"
      ],
      "metadata": {
        "colab": {
          "base_uri": "https://localhost:8080/"
        },
        "id": "ejnUkIYzNWTo",
        "outputId": "8612e6d0-bf49-485e-ee58-dadec683095f"
      },
      "execution_count": 15,
      "outputs": [
        {
          "output_type": "execute_result",
          "data": {
            "text/plain": [
              "str"
            ]
          },
          "metadata": {},
          "execution_count": 15
        }
      ]
    },
    {
      "cell_type": "markdown",
      "source": [
        "---\n",
        "Boolean o Variable Lógiga"
      ],
      "metadata": {
        "id": "0qnxr8i4N1y_"
      }
    },
    {
      "cell_type": "code",
      "source": [
        "# La variable booleana solo tiene dos valores\n",
        "# False\n",
        "# True\n",
        "a1 = True  # cuando colocamos el valor True / False de ir la primera en mayuscula para que el lenguaje reconosca"
      ],
      "metadata": {
        "id": "RHGUusjpNmvZ"
      },
      "execution_count": 16,
      "outputs": []
    },
    {
      "cell_type": "code",
      "source": [
        "# si queremos ver el valor de a1\n",
        "a1 # aca nos damos cuenta que el valor es True"
      ],
      "metadata": {
        "colab": {
          "base_uri": "https://localhost:8080/"
        },
        "id": "vlATV0jeOWnw",
        "outputId": "1e766ba2-2558-4a77-9f40-6e08b949e965"
      },
      "execution_count": 17,
      "outputs": [
        {
          "output_type": "execute_result",
          "data": {
            "text/plain": [
              "True"
            ]
          },
          "metadata": {},
          "execution_count": 17
        }
      ]
    },
    {
      "cell_type": "code",
      "source": [
        "# Para ver el tipo de variable\n",
        "type(a1) # nos dira que tipo de variable estamos utilizando\n",
        "# En este caso es bool = Boolean = Lógica"
      ],
      "metadata": {
        "colab": {
          "base_uri": "https://localhost:8080/"
        },
        "id": "5Zhq0kG7OeO3",
        "outputId": "f9edf5f6-ab42-427e-ea9b-95fbe38a2e16"
      },
      "execution_count": 18,
      "outputs": [
        {
          "output_type": "execute_result",
          "data": {
            "text/plain": [
              "bool"
            ]
          },
          "metadata": {},
          "execution_count": 18
        }
      ]
    },
    {
      "cell_type": "markdown",
      "source": [
        "#### Trabajando con Variables\n"
      ],
      "metadata": {
        "id": "1K35ejdcP7JA"
      }
    },
    {
      "cell_type": "code",
      "source": [],
      "metadata": {
        "id": "uCaNXuw4QHGO"
      },
      "execution_count": null,
      "outputs": []
    }
  ]
}